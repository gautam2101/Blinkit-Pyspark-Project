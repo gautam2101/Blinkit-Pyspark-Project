{
  "nbformat": 4,
  "nbformat_minor": 0,
  "metadata": {
    "colab": {
      "provenance": []
    },
    "kernelspec": {
      "name": "python3",
      "display_name": "Python 3"
    },
    "language_info": {
      "name": "python"
    }
  },
  "cells": [
    {
      "cell_type": "code",
      "execution_count": null,
      "metadata": {
        "id": "2hJTn7d-hIQy"
      },
      "outputs": [],
      "source": [
        "!apt-get install openjdk-8-jdk-headless -qq > /dev/null"
      ]
    },
    {
      "cell_type": "code",
      "source": [
        "!wget -q https://dlcdn.apache.org/spark/spark-3.5.1/spark-3.5.1-bin-hadoop3.tgz"
      ],
      "metadata": {
        "id": "RGVpj0ibjBNw"
      },
      "execution_count": null,
      "outputs": []
    },
    {
      "cell_type": "code",
      "source": [
        "!tar xf spark-3.5.1-bin-hadoop3.tgz"
      ],
      "metadata": {
        "id": "XVPVcqY0jYwb",
        "colab": {
          "base_uri": "https://localhost:8080/"
        },
        "outputId": "1b36dd9f-0f86-40bd-846a-83ab3eff3130"
      },
      "execution_count": null,
      "outputs": [
        {
          "output_type": "stream",
          "name": "stdout",
          "text": [
            "tar: spark-3.5.1-bin-hadoop3.tgz: Cannot open: No such file or directory\n",
            "tar: Error is not recoverable: exiting now\n"
          ]
        }
      ]
    },
    {
      "cell_type": "code",
      "source": [
        "!pip install -q findspark\n",
        "!pip install pyspark"
      ],
      "metadata": {
        "colab": {
          "base_uri": "https://localhost:8080/"
        },
        "id": "OFdgmRmSkNhH",
        "outputId": "2e62a47e-dd84-471b-be52-1018cfe5caf5"
      },
      "execution_count": null,
      "outputs": [
        {
          "output_type": "stream",
          "name": "stdout",
          "text": [
            "Collecting pyspark\n",
            "  Downloading pyspark-3.5.2.tar.gz (317.3 MB)\n",
            "\u001b[2K     \u001b[90m━━━━━━━━━━━━━━━━━━━━━━━━━━━━━━━━━━━━━━━━\u001b[0m \u001b[32m317.3/317.3 MB\u001b[0m \u001b[31m4.7 MB/s\u001b[0m eta \u001b[36m0:00:00\u001b[0m\n",
            "\u001b[?25h  Preparing metadata (setup.py) ... \u001b[?25l\u001b[?25hdone\n",
            "Requirement already satisfied: py4j==0.10.9.7 in /usr/local/lib/python3.10/dist-packages (from pyspark) (0.10.9.7)\n",
            "Building wheels for collected packages: pyspark\n",
            "  Building wheel for pyspark (setup.py) ... \u001b[?25l\u001b[?25hdone\n",
            "  Created wheel for pyspark: filename=pyspark-3.5.2-py2.py3-none-any.whl size=317812365 sha256=48341b52d514230b1b4d4029d4aff5a5861afd705f5f211080c7aceb2b107b05\n",
            "  Stored in directory: /root/.cache/pip/wheels/34/34/bd/03944534c44b677cd5859f248090daa9fb27b3c8f8e5f49574\n",
            "Successfully built pyspark\n",
            "Installing collected packages: pyspark\n",
            "Successfully installed pyspark-3.5.2\n"
          ]
        }
      ]
    },
    {
      "cell_type": "code",
      "source": [
        "from pyspark import SparkContext\n",
        "from pyspark.sql import SparkSession\n",
        "from pyspark.sql.functions import col, trim\n",
        "from os import truncate\n",
        "from pyspark.sql.functions import udf\n",
        "from pyspark.sql.functions import StringType\n",
        "from google.colab import files\n"
      ],
      "metadata": {
        "id": "_1PuZ4B54_OL"
      },
      "execution_count": null,
      "outputs": []
    },
    {
      "cell_type": "code",
      "source": [
        "spark = SparkSession.builder.appName('Gautam').getOrCreate()"
      ],
      "metadata": {
        "id": "yGpbx-4vYfbt"
      },
      "execution_count": null,
      "outputs": []
    },
    {
      "cell_type": "code",
      "source": [
        "from google.colab import files\n",
        "uploaded = files.upload()\n"
      ],
      "metadata": {
        "colab": {
          "base_uri": "https://localhost:8080/",
          "height": 73
        },
        "id": "5fzuPt9jd15m",
        "outputId": "a3b3c5d3-a40d-4d1b-f646-b6b3ba568c59"
      },
      "execution_count": null,
      "outputs": [
        {
          "output_type": "display_data",
          "data": {
            "text/plain": [
              "<IPython.core.display.HTML object>"
            ],
            "text/html": [
              "\n",
              "     <input type=\"file\" id=\"files-8409938b-3b47-49e2-9a03-9ee19eb55b78\" name=\"files[]\" multiple disabled\n",
              "        style=\"border:none\" />\n",
              "     <output id=\"result-8409938b-3b47-49e2-9a03-9ee19eb55b78\">\n",
              "      Upload widget is only available when the cell has been executed in the\n",
              "      current browser session. Please rerun this cell to enable.\n",
              "      </output>\n",
              "      <script>// Copyright 2017 Google LLC\n",
              "//\n",
              "// Licensed under the Apache License, Version 2.0 (the \"License\");\n",
              "// you may not use this file except in compliance with the License.\n",
              "// You may obtain a copy of the License at\n",
              "//\n",
              "//      http://www.apache.org/licenses/LICENSE-2.0\n",
              "//\n",
              "// Unless required by applicable law or agreed to in writing, software\n",
              "// distributed under the License is distributed on an \"AS IS\" BASIS,\n",
              "// WITHOUT WARRANTIES OR CONDITIONS OF ANY KIND, either express or implied.\n",
              "// See the License for the specific language governing permissions and\n",
              "// limitations under the License.\n",
              "\n",
              "/**\n",
              " * @fileoverview Helpers for google.colab Python module.\n",
              " */\n",
              "(function(scope) {\n",
              "function span(text, styleAttributes = {}) {\n",
              "  const element = document.createElement('span');\n",
              "  element.textContent = text;\n",
              "  for (const key of Object.keys(styleAttributes)) {\n",
              "    element.style[key] = styleAttributes[key];\n",
              "  }\n",
              "  return element;\n",
              "}\n",
              "\n",
              "// Max number of bytes which will be uploaded at a time.\n",
              "const MAX_PAYLOAD_SIZE = 100 * 1024;\n",
              "\n",
              "function _uploadFiles(inputId, outputId) {\n",
              "  const steps = uploadFilesStep(inputId, outputId);\n",
              "  const outputElement = document.getElementById(outputId);\n",
              "  // Cache steps on the outputElement to make it available for the next call\n",
              "  // to uploadFilesContinue from Python.\n",
              "  outputElement.steps = steps;\n",
              "\n",
              "  return _uploadFilesContinue(outputId);\n",
              "}\n",
              "\n",
              "// This is roughly an async generator (not supported in the browser yet),\n",
              "// where there are multiple asynchronous steps and the Python side is going\n",
              "// to poll for completion of each step.\n",
              "// This uses a Promise to block the python side on completion of each step,\n",
              "// then passes the result of the previous step as the input to the next step.\n",
              "function _uploadFilesContinue(outputId) {\n",
              "  const outputElement = document.getElementById(outputId);\n",
              "  const steps = outputElement.steps;\n",
              "\n",
              "  const next = steps.next(outputElement.lastPromiseValue);\n",
              "  return Promise.resolve(next.value.promise).then((value) => {\n",
              "    // Cache the last promise value to make it available to the next\n",
              "    // step of the generator.\n",
              "    outputElement.lastPromiseValue = value;\n",
              "    return next.value.response;\n",
              "  });\n",
              "}\n",
              "\n",
              "/**\n",
              " * Generator function which is called between each async step of the upload\n",
              " * process.\n",
              " * @param {string} inputId Element ID of the input file picker element.\n",
              " * @param {string} outputId Element ID of the output display.\n",
              " * @return {!Iterable<!Object>} Iterable of next steps.\n",
              " */\n",
              "function* uploadFilesStep(inputId, outputId) {\n",
              "  const inputElement = document.getElementById(inputId);\n",
              "  inputElement.disabled = false;\n",
              "\n",
              "  const outputElement = document.getElementById(outputId);\n",
              "  outputElement.innerHTML = '';\n",
              "\n",
              "  const pickedPromise = new Promise((resolve) => {\n",
              "    inputElement.addEventListener('change', (e) => {\n",
              "      resolve(e.target.files);\n",
              "    });\n",
              "  });\n",
              "\n",
              "  const cancel = document.createElement('button');\n",
              "  inputElement.parentElement.appendChild(cancel);\n",
              "  cancel.textContent = 'Cancel upload';\n",
              "  const cancelPromise = new Promise((resolve) => {\n",
              "    cancel.onclick = () => {\n",
              "      resolve(null);\n",
              "    };\n",
              "  });\n",
              "\n",
              "  // Wait for the user to pick the files.\n",
              "  const files = yield {\n",
              "    promise: Promise.race([pickedPromise, cancelPromise]),\n",
              "    response: {\n",
              "      action: 'starting',\n",
              "    }\n",
              "  };\n",
              "\n",
              "  cancel.remove();\n",
              "\n",
              "  // Disable the input element since further picks are not allowed.\n",
              "  inputElement.disabled = true;\n",
              "\n",
              "  if (!files) {\n",
              "    return {\n",
              "      response: {\n",
              "        action: 'complete',\n",
              "      }\n",
              "    };\n",
              "  }\n",
              "\n",
              "  for (const file of files) {\n",
              "    const li = document.createElement('li');\n",
              "    li.append(span(file.name, {fontWeight: 'bold'}));\n",
              "    li.append(span(\n",
              "        `(${file.type || 'n/a'}) - ${file.size} bytes, ` +\n",
              "        `last modified: ${\n",
              "            file.lastModifiedDate ? file.lastModifiedDate.toLocaleDateString() :\n",
              "                                    'n/a'} - `));\n",
              "    const percent = span('0% done');\n",
              "    li.appendChild(percent);\n",
              "\n",
              "    outputElement.appendChild(li);\n",
              "\n",
              "    const fileDataPromise = new Promise((resolve) => {\n",
              "      const reader = new FileReader();\n",
              "      reader.onload = (e) => {\n",
              "        resolve(e.target.result);\n",
              "      };\n",
              "      reader.readAsArrayBuffer(file);\n",
              "    });\n",
              "    // Wait for the data to be ready.\n",
              "    let fileData = yield {\n",
              "      promise: fileDataPromise,\n",
              "      response: {\n",
              "        action: 'continue',\n",
              "      }\n",
              "    };\n",
              "\n",
              "    // Use a chunked sending to avoid message size limits. See b/62115660.\n",
              "    let position = 0;\n",
              "    do {\n",
              "      const length = Math.min(fileData.byteLength - position, MAX_PAYLOAD_SIZE);\n",
              "      const chunk = new Uint8Array(fileData, position, length);\n",
              "      position += length;\n",
              "\n",
              "      const base64 = btoa(String.fromCharCode.apply(null, chunk));\n",
              "      yield {\n",
              "        response: {\n",
              "          action: 'append',\n",
              "          file: file.name,\n",
              "          data: base64,\n",
              "        },\n",
              "      };\n",
              "\n",
              "      let percentDone = fileData.byteLength === 0 ?\n",
              "          100 :\n",
              "          Math.round((position / fileData.byteLength) * 100);\n",
              "      percent.textContent = `${percentDone}% done`;\n",
              "\n",
              "    } while (position < fileData.byteLength);\n",
              "  }\n",
              "\n",
              "  // All done.\n",
              "  yield {\n",
              "    response: {\n",
              "      action: 'complete',\n",
              "    }\n",
              "  };\n",
              "}\n",
              "\n",
              "scope.google = scope.google || {};\n",
              "scope.google.colab = scope.google.colab || {};\n",
              "scope.google.colab._files = {\n",
              "  _uploadFiles,\n",
              "  _uploadFilesContinue,\n",
              "};\n",
              "})(self);\n",
              "</script> "
            ]
          },
          "metadata": {}
        },
        {
          "output_type": "stream",
          "name": "stdout",
          "text": [
            "Saving BlinkIT Grocery Data.csv to BlinkIT Grocery Data.csv\n"
          ]
        }
      ]
    },
    {
      "cell_type": "code",
      "source": [
        "#df=spark.read.csv(r\"C:\\Users\\Gautam sharma\\Downloads\\pizza_sales.csv\", header=True, inferSchema=True)\n",
        "df = spark.read.csv('BlinkIT Grocery Data.csv', header=True, inferSchema=True)"
      ],
      "metadata": {
        "id": "RX9KacejZ_fK"
      },
      "execution_count": null,
      "outputs": []
    },
    {
      "cell_type": "markdown",
      "source": [
        "Show data"
      ],
      "metadata": {
        "id": "pxpllZj7IYJv"
      }
    },
    {
      "cell_type": "code",
      "source": [
        "df.show(5,False)  # step 12 read only 5 rows and all columns"
      ],
      "metadata": {
        "colab": {
          "base_uri": "https://localhost:8080/"
        },
        "id": "Qo5jrZfyb3tl",
        "outputId": "2627200a-b034-40d0-988e-37f155eff1a9"
      },
      "execution_count": null,
      "outputs": [
        {
          "output_type": "stream",
          "name": "stdout",
          "text": [
            "+----------------+---------------+---------------------+-------------------------+-----------------+--------------------+-----------+-----------------+---------------+-----------+--------+------+\n",
            "|Item Fat Content|Item Identifier|Item Type            |Outlet Establishment Year|Outlet Identifier|Outlet Location Type|Outlet Size|Outlet Type      |Item Visibility|Item Weight|Sales   |Rating|\n",
            "+----------------+---------------+---------------------+-------------------------+-----------------+--------------------+-----------+-----------------+---------------+-----------+--------+------+\n",
            "|Regular         |FDX32          |Fruits and Vegetables|2012                     |OUT049           |Tier 1              |Medium     |Supermarket Type1|0.1000135      |15.1       |145.4786|5.0   |\n",
            "|Low Fat         |NCB42          |Health and Hygiene   |2022                     |OUT018           |Tier 3              |Medium     |Supermarket Type2|0.008596051    |11.8       |115.3492|5.0   |\n",
            "|Regular         |FDR28          |Frozen Foods         |2016                     |OUT046           |Tier 1              |Small      |Supermarket Type1|0.025896485    |13.85      |165.021 |5.0   |\n",
            "|Regular         |FDL50          |Canned               |2014                     |OUT013           |Tier 3              |High       |Supermarket Type1|0.042277867    |12.15      |126.5046|5.0   |\n",
            "|Low Fat         |DRI25          |Soft Drinks          |2015                     |OUT045           |Tier 2              |Small      |Supermarket Type1|0.033970195    |19.6       |55.1614 |5.0   |\n",
            "+----------------+---------------+---------------------+-------------------------+-----------------+--------------------+-----------+-----------------+---------------+-----------+--------+------+\n",
            "only showing top 5 rows\n",
            "\n"
          ]
        }
      ]
    },
    {
      "cell_type": "markdown",
      "source": [
        "check columns data types"
      ],
      "metadata": {
        "id": "NVcAio9YIc4I"
      }
    },
    {
      "cell_type": "code",
      "source": [
        "df.printSchema()"
      ],
      "metadata": {
        "id": "UKBAVDcTcpk9",
        "colab": {
          "base_uri": "https://localhost:8080/"
        },
        "outputId": "3d9ca775-c288-45b4-f3cf-254c41ac63b2"
      },
      "execution_count": null,
      "outputs": [
        {
          "output_type": "stream",
          "name": "stdout",
          "text": [
            "root\n",
            " |-- Item Fat Content: string (nullable = true)\n",
            " |-- Item Identifier: string (nullable = true)\n",
            " |-- Item Type: string (nullable = true)\n",
            " |-- Outlet Establishment Year: integer (nullable = true)\n",
            " |-- Outlet Identifier: string (nullable = true)\n",
            " |-- Outlet Location Type: string (nullable = true)\n",
            " |-- Outlet Size: string (nullable = true)\n",
            " |-- Outlet Type: string (nullable = true)\n",
            " |-- Item Visibility: double (nullable = true)\n",
            " |-- Item Weight: double (nullable = true)\n",
            " |-- Sales: double (nullable = true)\n",
            " |-- Rating: double (nullable = true)\n",
            "\n"
          ]
        }
      ]
    },
    {
      "cell_type": "markdown",
      "source": [
        "Check distinct value from each columns"
      ],
      "metadata": {
        "id": "fOBIkQ_zIibN"
      }
    },
    {
      "cell_type": "code",
      "source": [
        "distinct_Item_Fat_Content = df.select('Item Fat Content').distinct()\n",
        "distinct_Item_Fat_Content.show()"
      ],
      "metadata": {
        "colab": {
          "base_uri": "https://localhost:8080/"
        },
        "id": "lXgdYJaMu8Xk",
        "outputId": "859df943-0d52-460c-8e0b-bda8d7f6b0c9"
      },
      "execution_count": null,
      "outputs": [
        {
          "output_type": "stream",
          "name": "stdout",
          "text": [
            "+----------------+\n",
            "|Item Fat Content|\n",
            "+----------------+\n",
            "|         low fat|\n",
            "|         Low Fat|\n",
            "|              LF|\n",
            "|         Regular|\n",
            "|             reg|\n",
            "+----------------+\n",
            "\n"
          ]
        }
      ]
    },
    {
      "cell_type": "code",
      "source": [
        "distinct_Item_Identifier = df.select('Item Identifier').distinct()\n",
        "distinct_Item_Identifier.show(5)"
      ],
      "metadata": {
        "colab": {
          "base_uri": "https://localhost:8080/"
        },
        "id": "3BZvJ_ROwCew",
        "outputId": "74602f33-31c8-44c8-8e27-aca468a2dc19"
      },
      "execution_count": null,
      "outputs": [
        {
          "output_type": "stream",
          "name": "stdout",
          "text": [
            "+---------------+\n",
            "|Item Identifier|\n",
            "+---------------+\n",
            "|          FDO11|\n",
            "|          FDU24|\n",
            "|          FDB11|\n",
            "|          FDW52|\n",
            "|          FDW60|\n",
            "+---------------+\n",
            "only showing top 5 rows\n",
            "\n"
          ]
        }
      ]
    },
    {
      "cell_type": "code",
      "source": [
        "distinct_Item_Type = df.select('Item Type').distinct()\n",
        "distinct_Item_Type.show(truncate=False)"
      ],
      "metadata": {
        "colab": {
          "base_uri": "https://localhost:8080/"
        },
        "id": "EKPvJ-G9wFxF",
        "outputId": "ebae9223-03fb-4cff-c885-cf45ad7adf66"
      },
      "execution_count": null,
      "outputs": [
        {
          "output_type": "stream",
          "name": "stdout",
          "text": [
            "+---------------------+\n",
            "|Item Type            |\n",
            "+---------------------+\n",
            "|Starchy Foods        |\n",
            "|Breads               |\n",
            "|Baking Goods         |\n",
            "|Fruits and Vegetables|\n",
            "|Meat                 |\n",
            "|Hard Drinks          |\n",
            "|Soft Drinks          |\n",
            "|Household            |\n",
            "|Breakfast            |\n",
            "|Dairy                |\n",
            "|Snack Foods          |\n",
            "|Others               |\n",
            "|Seafood              |\n",
            "|Canned               |\n",
            "|Frozen Foods         |\n",
            "|Health and Hygiene   |\n",
            "+---------------------+\n",
            "\n"
          ]
        }
      ]
    },
    {
      "cell_type": "code",
      "source": [
        "distinct_Outlet_Establishment_Year = df.select('Outlet Establishment Year').distinct()\n",
        "distinct_Outlet_Establishment_Year.show()"
      ],
      "metadata": {
        "colab": {
          "base_uri": "https://localhost:8080/"
        },
        "id": "eJcC5Z_ZxWmw",
        "outputId": "efadadc0-28a1-4fbd-85af-e4867c011ff8"
      },
      "execution_count": null,
      "outputs": [
        {
          "output_type": "stream",
          "name": "stdout",
          "text": [
            "+-------------------------+\n",
            "|Outlet Establishment Year|\n",
            "+-------------------------+\n",
            "|                     2018|\n",
            "|                     2015|\n",
            "|                     2022|\n",
            "|                     2014|\n",
            "|                     2020|\n",
            "|                     2012|\n",
            "|                     2016|\n",
            "|                     2011|\n",
            "|                     2017|\n",
            "+-------------------------+\n",
            "\n"
          ]
        }
      ]
    },
    {
      "cell_type": "code",
      "source": [
        "distinct_Outlet_Identifier = df.select('Outlet Identifier').distinct()\n",
        "distinct_Outlet_Identifier.show()"
      ],
      "metadata": {
        "colab": {
          "base_uri": "https://localhost:8080/"
        },
        "id": "XN06adIrxxHs",
        "outputId": "7d95403a-a861-4ee4-9221-faf7b65bb877"
      },
      "execution_count": null,
      "outputs": [
        {
          "output_type": "stream",
          "name": "stdout",
          "text": [
            "+-----------------+\n",
            "|Outlet Identifier|\n",
            "+-----------------+\n",
            "|           OUT027|\n",
            "|           OUT046|\n",
            "|           OUT013|\n",
            "|           OUT019|\n",
            "|           OUT018|\n",
            "|           OUT010|\n",
            "|           OUT045|\n",
            "|           OUT035|\n",
            "|           OUT017|\n",
            "|           OUT049|\n",
            "+-----------------+\n",
            "\n"
          ]
        }
      ]
    },
    {
      "cell_type": "code",
      "source": [
        "distinct_Outlet_Location_Type = df.select('Outlet Location Type').distinct()\n",
        "distinct_Outlet_Location_Type.show()"
      ],
      "metadata": {
        "colab": {
          "base_uri": "https://localhost:8080/"
        },
        "id": "kPZPSiOEzr1o",
        "outputId": "4b190910-b3f2-489f-d4e7-366393a6792c"
      },
      "execution_count": null,
      "outputs": [
        {
          "output_type": "stream",
          "name": "stdout",
          "text": [
            "+--------------------+\n",
            "|Outlet Location Type|\n",
            "+--------------------+\n",
            "|              Tier 2|\n",
            "|              Tier 3|\n",
            "|              Tier 1|\n",
            "+--------------------+\n",
            "\n"
          ]
        }
      ]
    },
    {
      "cell_type": "code",
      "source": [
        "distinct_Outlet_Size = df.select('Outlet Size').distinct()\n",
        "distinct_Outlet_Size.show()"
      ],
      "metadata": {
        "colab": {
          "base_uri": "https://localhost:8080/"
        },
        "id": "Z2f_nMx4zvTh",
        "outputId": "584d2673-f722-4774-e2a1-fa0121234ae6"
      },
      "execution_count": null,
      "outputs": [
        {
          "output_type": "stream",
          "name": "stdout",
          "text": [
            "+-----------+\n",
            "|Outlet Size|\n",
            "+-----------+\n",
            "|       High|\n",
            "|     Medium|\n",
            "|      Small|\n",
            "+-----------+\n",
            "\n"
          ]
        }
      ]
    },
    {
      "cell_type": "code",
      "source": [
        "distinct_Outlet_Type = df.select('Outlet Type').distinct()\n",
        "distinct_Outlet_Type.show()"
      ],
      "metadata": {
        "colab": {
          "base_uri": "https://localhost:8080/"
        },
        "id": "RQ6LTksDzyrf",
        "outputId": "80ac4d70-b649-4684-94c8-71818f04baed"
      },
      "execution_count": null,
      "outputs": [
        {
          "output_type": "stream",
          "name": "stdout",
          "text": [
            "+-----------------+\n",
            "|      Outlet Type|\n",
            "+-----------------+\n",
            "|Supermarket Type3|\n",
            "|    Grocery Store|\n",
            "|Supermarket Type2|\n",
            "|Supermarket Type1|\n",
            "+-----------------+\n",
            "\n"
          ]
        }
      ]
    },
    {
      "cell_type": "code",
      "source": [
        "distinct_Rating = df.select('Rating').distinct()\n",
        "distinct_Rating.show(distinct_Rating.count())\n"
      ],
      "metadata": {
        "colab": {
          "base_uri": "https://localhost:8080/"
        },
        "id": "J40tWjs5z15J",
        "outputId": "1e54ef23-42be-4999-d47c-9e94e79fe44b"
      },
      "execution_count": null,
      "outputs": [
        {
          "output_type": "stream",
          "name": "stdout",
          "text": [
            "+------+\n",
            "|Rating|\n",
            "+------+\n",
            "|   2.4|\n",
            "|   3.5|\n",
            "|   2.9|\n",
            "|   3.7|\n",
            "|   4.5|\n",
            "|   1.4|\n",
            "|   2.3|\n",
            "|   4.9|\n",
            "|   3.1|\n",
            "|   4.2|\n",
            "|   1.7|\n",
            "|   3.4|\n",
            "|   2.5|\n",
            "|   1.0|\n",
            "|   2.7|\n",
            "|   4.1|\n",
            "|   2.2|\n",
            "|   2.8|\n",
            "|   4.0|\n",
            "|   1.9|\n",
            "|   3.9|\n",
            "|   3.8|\n",
            "|   1.3|\n",
            "|   4.3|\n",
            "|   4.7|\n",
            "|   3.2|\n",
            "|   3.0|\n",
            "|   2.0|\n",
            "|   1.2|\n",
            "|   1.8|\n",
            "|   1.5|\n",
            "|   2.6|\n",
            "|   4.8|\n",
            "|   4.4|\n",
            "|   4.6|\n",
            "|   3.6|\n",
            "|   5.0|\n",
            "|   2.1|\n",
            "|   3.3|\n",
            "+------+\n",
            "\n"
          ]
        }
      ]
    },
    {
      "cell_type": "markdown",
      "source": [
        "Clean data"
      ],
      "metadata": {
        "id": "dgDXnDIqI2a5"
      }
    },
    {
      "cell_type": "code",
      "source": [
        "def Item_Fat(value):\n",
        "  if value == 'low fat' or value == 'LF':\n",
        "    return 'Low Fat'\n",
        "  elif value == 'reg':\n",
        "    return 'Regular'\n",
        "  else:\n",
        "    return value"
      ],
      "metadata": {
        "id": "TdOXgwoPz6iF"
      },
      "execution_count": null,
      "outputs": []
    },
    {
      "cell_type": "code",
      "source": [
        "item_fat = udf(Item_Fat, StringType())\n",
        "df = df.withColumn('Item Fat Content',item_fat(df['Item Fat Content']))\n"
      ],
      "metadata": {
        "id": "byrUbaKd6f8p"
      },
      "execution_count": null,
      "outputs": []
    },
    {
      "cell_type": "code",
      "source": [
        "df.select('Item Fat Content').distinct().show()"
      ],
      "metadata": {
        "colab": {
          "base_uri": "https://localhost:8080/"
        },
        "id": "xyN0K5h26uQz",
        "outputId": "bab54854-93a8-46d4-9ff1-9a27ec08c16e"
      },
      "execution_count": null,
      "outputs": [
        {
          "output_type": "stream",
          "name": "stdout",
          "text": [
            "+----------------+\n",
            "|Item Fat Content|\n",
            "+----------------+\n",
            "|         Low Fat|\n",
            "|         Regular|\n",
            "+----------------+\n",
            "\n"
          ]
        }
      ]
    },
    {
      "cell_type": "code",
      "source": [
        "df.show(2,truncate = False)"
      ],
      "metadata": {
        "colab": {
          "base_uri": "https://localhost:8080/"
        },
        "id": "2beDHwCS_m_w",
        "outputId": "ab3c3b53-0d24-4b65-fc55-840e0504b2c9"
      },
      "execution_count": null,
      "outputs": [
        {
          "output_type": "stream",
          "name": "stdout",
          "text": [
            "+----------------+---------------+---------------------+-------------------------+-----------------+--------------------+-----------+-----------------+---------------+-----------+--------+------+\n",
            "|Item Fat Content|Item Identifier|Item Type            |Outlet Establishment Year|Outlet Identifier|Outlet Location Type|Outlet Size|Outlet Type      |Item Visibility|Item Weight|Sales   |Rating|\n",
            "+----------------+---------------+---------------------+-------------------------+-----------------+--------------------+-----------+-----------------+---------------+-----------+--------+------+\n",
            "|Regular         |FDX32          |Fruits and Vegetables|2012                     |OUT049           |Tier 1              |Medium     |Supermarket Type1|0.1000135      |15.1       |145.4786|5.0   |\n",
            "|Low Fat         |NCB42          |Health and Hygiene   |2022                     |OUT018           |Tier 3              |Medium     |Supermarket Type2|0.008596051    |11.8       |115.3492|5.0   |\n",
            "+----------------+---------------+---------------------+-------------------------+-----------------+--------------------+-----------+-----------------+---------------+-----------+--------+------+\n",
            "only showing top 2 rows\n",
            "\n"
          ]
        }
      ]
    },
    {
      "cell_type": "markdown",
      "source": [
        "check Null value in each columns"
      ],
      "metadata": {
        "id": "C0qE0DCYJA91"
      }
    },
    {
      "cell_type": "code",
      "source": [
        "from pyspark.sql.functions import col, sum as _sum\n",
        "from pyspark.sql.functions import *"
      ],
      "metadata": {
        "id": "1qmI1B_XEIav"
      },
      "execution_count": null,
      "outputs": []
    },
    {
      "cell_type": "code",
      "source": [
        "null_count=df.select([_sum(col(column).isNull().cast(\"int\")).alias(column) for column in df.columns])\n",
        "null_count.show()"
      ],
      "metadata": {
        "colab": {
          "base_uri": "https://localhost:8080/"
        },
        "id": "fW4Bv7PcFK8o",
        "outputId": "03dd2667-b0b3-427e-9840-8baf143290f1"
      },
      "execution_count": null,
      "outputs": [
        {
          "output_type": "stream",
          "name": "stdout",
          "text": [
            "+----------------+---------------+---------+-------------------------+-----------------+--------------------+-----------+-----------+---------------+-----------+-----+------+\n",
            "|Item Fat Content|Item Identifier|Item Type|Outlet Establishment Year|Outlet Identifier|Outlet Location Type|Outlet Size|Outlet Type|Item Visibility|Item Weight|Sales|Rating|\n",
            "+----------------+---------------+---------+-------------------------+-----------------+--------------------+-----------+-----------+---------------+-----------+-----+------+\n",
            "|               0|              0|        0|                        0|                0|                   0|          0|          0|              0|       1463|    0|     0|\n",
            "+----------------+---------------+---------+-------------------------+-----------------+--------------------+-----------+-----------+---------------+-----------+-----+------+\n",
            "\n"
          ]
        }
      ]
    },
    {
      "cell_type": "code",
      "source": [
        "item_type = df.groupby(\"Item Type\").agg(count('Item Fat Content').alias('Count'))\n",
        "item_type.show()"
      ],
      "metadata": {
        "id": "tLfyP8iuQWda",
        "colab": {
          "base_uri": "https://localhost:8080/"
        },
        "outputId": "ec556fd0-6b7c-4595-c624-f5534da319bf"
      },
      "execution_count": null,
      "outputs": [
        {
          "output_type": "stream",
          "name": "stdout",
          "text": [
            "+--------------------+-----+\n",
            "|           Item Type|Count|\n",
            "+--------------------+-----+\n",
            "|       Starchy Foods|  148|\n",
            "|              Breads|  251|\n",
            "|        Baking Goods|  648|\n",
            "|Fruits and Vegeta...| 1232|\n",
            "|                Meat|  425|\n",
            "|         Hard Drinks|  214|\n",
            "|         Soft Drinks|  445|\n",
            "|           Household|  910|\n",
            "|           Breakfast|  110|\n",
            "|               Dairy|  682|\n",
            "|         Snack Foods| 1200|\n",
            "|              Others|  169|\n",
            "|             Seafood|   64|\n",
            "|              Canned|  649|\n",
            "|        Frozen Foods|  856|\n",
            "|  Health and Hygiene|  520|\n",
            "+--------------------+-----+\n",
            "\n"
          ]
        }
      ]
    },
    {
      "cell_type": "code",
      "source": [
        "item_fat = df.groupby(\"Item Fat Content\").agg(count('Item Type').alias('Count'))\n",
        "item_fat.show()"
      ],
      "metadata": {
        "colab": {
          "base_uri": "https://localhost:8080/"
        },
        "id": "ieEkxWfWNVAs",
        "outputId": "6211018e-2d97-43d7-aa26-9d152d402352"
      },
      "execution_count": null,
      "outputs": [
        {
          "output_type": "stream",
          "name": "stdout",
          "text": [
            "+----------------+-----+\n",
            "|Item Fat Content|Count|\n",
            "+----------------+-----+\n",
            "|         Low Fat| 5517|\n",
            "|         Regular| 3006|\n",
            "+----------------+-----+\n",
            "\n"
          ]
        }
      ]
    },
    {
      "cell_type": "code",
      "source": [
        "item_type = df.groupby(\"Item Type\",'Item Fat Content').agg(count('Item Fat Content').alias('Count')).orderBy(\"Item Type\")\n",
        "item_type.show(item_type.count())"
      ],
      "metadata": {
        "colab": {
          "base_uri": "https://localhost:8080/"
        },
        "id": "91G-kpRNOIof",
        "outputId": "a2824127-50be-42d6-a105-32154ff0d129"
      },
      "execution_count": null,
      "outputs": [
        {
          "output_type": "stream",
          "name": "stdout",
          "text": [
            "+--------------------+----------------+-----+\n",
            "|           Item Type|Item Fat Content|Count|\n",
            "+--------------------+----------------+-----+\n",
            "|        Baking Goods|         Low Fat|  329|\n",
            "|        Baking Goods|         Regular|  319|\n",
            "|              Breads|         Regular|  111|\n",
            "|              Breads|         Low Fat|  140|\n",
            "|           Breakfast|         Low Fat|   41|\n",
            "|           Breakfast|         Regular|   69|\n",
            "|              Canned|         Regular|  308|\n",
            "|              Canned|         Low Fat|  341|\n",
            "|               Dairy|         Low Fat|  418|\n",
            "|               Dairy|         Regular|  264|\n",
            "|        Frozen Foods|         Regular|  406|\n",
            "|        Frozen Foods|         Low Fat|  450|\n",
            "|Fruits and Vegeta...|         Low Fat|  630|\n",
            "|Fruits and Vegeta...|         Regular|  602|\n",
            "|         Hard Drinks|         Low Fat|  214|\n",
            "|  Health and Hygiene|         Low Fat|  520|\n",
            "|           Household|         Low Fat|  910|\n",
            "|                Meat|         Regular|  255|\n",
            "|                Meat|         Low Fat|  170|\n",
            "|              Others|         Low Fat|  169|\n",
            "|             Seafood|         Low Fat|   37|\n",
            "|             Seafood|         Regular|   27|\n",
            "|         Snack Foods|         Low Fat|  692|\n",
            "|         Snack Foods|         Regular|  508|\n",
            "|         Soft Drinks|         Regular|   71|\n",
            "|         Soft Drinks|         Low Fat|  374|\n",
            "|       Starchy Foods|         Regular|   66|\n",
            "|       Starchy Foods|         Low Fat|   82|\n",
            "+--------------------+----------------+-----+\n",
            "\n"
          ]
        }
      ]
    },
    {
      "cell_type": "code",
      "source": [
        "item_type_location = df.groupby('Item Type','Outlet Location Type').agg(count('Outlet Location Type').alias('count')).orderBy('Item Type', ascending=False)\n",
        "item_type_location.show(item_type_location.count(),truncate=False)"
      ],
      "metadata": {
        "colab": {
          "base_uri": "https://localhost:8080/"
        },
        "id": "UX1vX7VlPsx8",
        "outputId": "a036fefe-c793-4c46-fd01-509436c67f7e"
      },
      "execution_count": null,
      "outputs": [
        {
          "output_type": "stream",
          "name": "stdout",
          "text": [
            "+---------------------+--------------------+-----+\n",
            "|Item Type            |Outlet Location Type|count|\n",
            "+---------------------+--------------------+-----+\n",
            "|Starchy Foods        |Tier 2              |53   |\n",
            "|Starchy Foods        |Tier 3              |59   |\n",
            "|Starchy Foods        |Tier 1              |36   |\n",
            "|Soft Drinks          |Tier 2              |157  |\n",
            "|Soft Drinks          |Tier 1              |120  |\n",
            "|Soft Drinks          |Tier 3              |168  |\n",
            "|Snack Foods          |Tier 1              |334  |\n",
            "|Snack Foods          |Tier 2              |401  |\n",
            "|Snack Foods          |Tier 3              |465  |\n",
            "|Seafood              |Tier 1              |19   |\n",
            "|Seafood              |Tier 3              |23   |\n",
            "|Seafood              |Tier 2              |22   |\n",
            "|Others               |Tier 2              |52   |\n",
            "|Others               |Tier 3              |61   |\n",
            "|Others               |Tier 1              |56   |\n",
            "|Meat                 |Tier 3              |177  |\n",
            "|Meat                 |Tier 2              |125  |\n",
            "|Meat                 |Tier 1              |123  |\n",
            "|Household            |Tier 1              |250  |\n",
            "|Household            |Tier 2              |296  |\n",
            "|Household            |Tier 3              |364  |\n",
            "|Health and Hygiene   |Tier 1              |138  |\n",
            "|Health and Hygiene   |Tier 2              |166  |\n",
            "|Health and Hygiene   |Tier 3              |216  |\n",
            "|Hard Drinks          |Tier 1              |58   |\n",
            "|Hard Drinks          |Tier 2              |72   |\n",
            "|Hard Drinks          |Tier 3              |84   |\n",
            "|Fruits and Vegetables|Tier 1              |337  |\n",
            "|Fruits and Vegetables|Tier 2              |399  |\n",
            "|Fruits and Vegetables|Tier 3              |496  |\n",
            "|Frozen Foods         |Tier 3              |327  |\n",
            "|Frozen Foods         |Tier 1              |250  |\n",
            "|Frozen Foods         |Tier 2              |279  |\n",
            "|Dairy                |Tier 3              |263  |\n",
            "|Dairy                |Tier 2              |214  |\n",
            "|Dairy                |Tier 1              |205  |\n",
            "|Canned               |Tier 1              |177  |\n",
            "|Canned               |Tier 3              |250  |\n",
            "|Canned               |Tier 2              |222  |\n",
            "|Breakfast            |Tier 3              |45   |\n",
            "|Breakfast            |Tier 2              |32   |\n",
            "|Breakfast            |Tier 1              |33   |\n",
            "|Breads               |Tier 3              |100  |\n",
            "|Breads               |Tier 1              |67   |\n",
            "|Breads               |Tier 2              |84   |\n",
            "|Baking Goods         |Tier 2              |211  |\n",
            "|Baking Goods         |Tier 1              |185  |\n",
            "|Baking Goods         |Tier 3              |252  |\n",
            "+---------------------+--------------------+-----+\n",
            "\n"
          ]
        }
      ]
    },
    {
      "cell_type": "code",
      "source": [
        "item_type_rating = df.groupby('Item Type').agg(round(avg('Rating'),2).alias('Avg Rating'))\n",
        "item_type_rating.show()"
      ],
      "metadata": {
        "colab": {
          "base_uri": "https://localhost:8080/"
        },
        "id": "RTZSv2MtTdBW",
        "outputId": "119ce1aa-9e7c-4e49-e0b5-901b88959d3c"
      },
      "execution_count": null,
      "outputs": [
        {
          "output_type": "stream",
          "name": "stdout",
          "text": [
            "+--------------------+----------+\n",
            "|           Item Type|Avg Rating|\n",
            "+--------------------+----------+\n",
            "|       Starchy Foods|      3.92|\n",
            "|              Breads|      3.88|\n",
            "|        Baking Goods|      3.98|\n",
            "|Fruits and Vegeta...|      3.96|\n",
            "|                Meat|      4.02|\n",
            "|         Hard Drinks|      3.91|\n",
            "|         Soft Drinks|      3.92|\n",
            "|           Household|       4.0|\n",
            "|           Breakfast|      3.93|\n",
            "|               Dairy|      3.97|\n",
            "|         Snack Foods|      3.95|\n",
            "|              Others|      3.95|\n",
            "|             Seafood|      3.96|\n",
            "|              Canned|      3.99|\n",
            "|        Frozen Foods|      3.97|\n",
            "|  Health and Hygiene|      3.99|\n",
            "+--------------------+----------+\n",
            "\n"
          ]
        }
      ]
    },
    {
      "cell_type": "code",
      "source": [
        "Item_Fat_Content_rating = df.groupby('Item Fat Content').agg(round(avg('Rating'),2).alias('Avg Rating'))\n",
        "Item_Fat_Content_rating.show()"
      ],
      "metadata": {
        "colab": {
          "base_uri": "https://localhost:8080/"
        },
        "id": "pHuG71OZT24h",
        "outputId": "3ed2500e-5f82-459e-a4bd-8291b68c0cbf"
      },
      "execution_count": null,
      "outputs": [
        {
          "output_type": "stream",
          "name": "stdout",
          "text": [
            "+----------------+----------+\n",
            "|Item Fat Content|Avg Rating|\n",
            "+----------------+----------+\n",
            "|         Low Fat|      3.97|\n",
            "|         Regular|      3.97|\n",
            "+----------------+----------+\n",
            "\n"
          ]
        }
      ]
    },
    {
      "cell_type": "code",
      "source": [
        "item_type_Location_rating = df.groupby('Item Type','Outlet Location Type').agg(round(avg('Rating'),2).alias('Avg Rating')).orderBy('Item Type')\n",
        "item_type_Location_rating.show()"
      ],
      "metadata": {
        "colab": {
          "base_uri": "https://localhost:8080/"
        },
        "id": "R3naI27DUz8Q",
        "outputId": "1e9bddb1-add5-413b-de38-dad84ffaf881"
      },
      "execution_count": null,
      "outputs": [
        {
          "output_type": "stream",
          "name": "stdout",
          "text": [
            "+--------------------+--------------------+----------+\n",
            "|           Item Type|Outlet Location Type|Avg Rating|\n",
            "+--------------------+--------------------+----------+\n",
            "|        Baking Goods|              Tier 2|      3.99|\n",
            "|        Baking Goods|              Tier 1|      3.94|\n",
            "|        Baking Goods|              Tier 3|      4.01|\n",
            "|              Breads|              Tier 3|      3.84|\n",
            "|              Breads|              Tier 1|       4.0|\n",
            "|              Breads|              Tier 2|      3.83|\n",
            "|           Breakfast|              Tier 2|      3.76|\n",
            "|           Breakfast|              Tier 3|       4.1|\n",
            "|           Breakfast|              Tier 1|      3.88|\n",
            "|              Canned|              Tier 1|      3.94|\n",
            "|              Canned|              Tier 3|      3.99|\n",
            "|              Canned|              Tier 2|      4.04|\n",
            "|               Dairy|              Tier 3|      3.97|\n",
            "|               Dairy|              Tier 2|      3.95|\n",
            "|               Dairy|              Tier 1|      3.98|\n",
            "|        Frozen Foods|              Tier 3|      3.98|\n",
            "|        Frozen Foods|              Tier 1|      3.98|\n",
            "|        Frozen Foods|              Tier 2|      3.95|\n",
            "|Fruits and Vegeta...|              Tier 3|      3.96|\n",
            "|Fruits and Vegeta...|              Tier 1|      3.96|\n",
            "+--------------------+--------------------+----------+\n",
            "only showing top 20 rows\n",
            "\n"
          ]
        }
      ]
    },
    {
      "cell_type": "code",
      "source": [
        "item_type_Size_rating = df.groupby('Item Type','Outlet Size').agg(round(avg('Rating'),2).alias('Avg Rating')).orderBy('Item Type')\n",
        "item_type_Size_rating.show()"
      ],
      "metadata": {
        "colab": {
          "base_uri": "https://localhost:8080/"
        },
        "id": "DKs_dcAzVYIX",
        "outputId": "5bf1cb14-2e85-458b-f06f-11ec2913d0c4"
      },
      "execution_count": null,
      "outputs": [
        {
          "output_type": "stream",
          "name": "stdout",
          "text": [
            "+--------------------+-----------+----------+\n",
            "|           Item Type|Outlet Size|Avg Rating|\n",
            "+--------------------+-----------+----------+\n",
            "|        Baking Goods|       High|      3.97|\n",
            "|        Baking Goods|     Medium|      4.03|\n",
            "|        Baking Goods|      Small|      3.94|\n",
            "|              Breads|      Small|      3.85|\n",
            "|              Breads|       High|      3.88|\n",
            "|              Breads|     Medium|      3.91|\n",
            "|           Breakfast|      Small|      3.62|\n",
            "|           Breakfast|     Medium|      4.16|\n",
            "|           Breakfast|       High|      3.94|\n",
            "|              Canned|     Medium|      3.99|\n",
            "|              Canned|       High|      3.99|\n",
            "|              Canned|      Small|       4.0|\n",
            "|               Dairy|       High|      3.93|\n",
            "|               Dairy|     Medium|       4.0|\n",
            "|               Dairy|      Small|      3.95|\n",
            "|        Frozen Foods|       High|       4.0|\n",
            "|        Frozen Foods|     Medium|      3.97|\n",
            "|        Frozen Foods|      Small|      3.95|\n",
            "|Fruits and Vegeta...|     Medium|      3.99|\n",
            "|Fruits and Vegeta...|       High|      3.91|\n",
            "+--------------------+-----------+----------+\n",
            "only showing top 20 rows\n",
            "\n"
          ]
        }
      ]
    },
    {
      "cell_type": "code",
      "source": [
        "item_type_Size_Fat_rating = df.groupby('Item Type','Item Fat Content','Outlet Size').agg(round(avg('Rating'),2).alias('Avg Rating')).orderBy('Item Type','Item Fat Content')\n",
        "item_type_Size_Fat_rating.show(item_type_Size_Fat_rating.count())"
      ],
      "metadata": {
        "colab": {
          "base_uri": "https://localhost:8080/"
        },
        "id": "p7IC7rG3V0i5",
        "outputId": "b6ed4b83-a588-448e-baf1-adf60980fa17"
      },
      "execution_count": null,
      "outputs": [
        {
          "output_type": "stream",
          "name": "stdout",
          "text": [
            "+--------------------+----------------+-----------+----------+\n",
            "|           Item Type|Item Fat Content|Outlet Size|Avg Rating|\n",
            "+--------------------+----------------+-----------+----------+\n",
            "|        Baking Goods|         Low Fat|      Small|      3.94|\n",
            "|        Baking Goods|         Low Fat|     Medium|      4.06|\n",
            "|        Baking Goods|         Low Fat|       High|      3.97|\n",
            "|        Baking Goods|         Regular|       High|      3.97|\n",
            "|        Baking Goods|         Regular|     Medium|      3.97|\n",
            "|        Baking Goods|         Regular|      Small|      3.94|\n",
            "|              Breads|         Low Fat|      Small|      3.83|\n",
            "|              Breads|         Low Fat|       High|      3.94|\n",
            "|              Breads|         Low Fat|     Medium|      3.88|\n",
            "|              Breads|         Regular|       High|      3.85|\n",
            "|              Breads|         Regular|      Small|      3.89|\n",
            "|              Breads|         Regular|     Medium|      3.95|\n",
            "|           Breakfast|         Low Fat|     Medium|      4.17|\n",
            "|           Breakfast|         Low Fat|       High|      4.12|\n",
            "|           Breakfast|         Low Fat|      Small|      3.85|\n",
            "|           Breakfast|         Regular|      Small|      3.46|\n",
            "|           Breakfast|         Regular|       High|      3.88|\n",
            "|           Breakfast|         Regular|     Medium|      4.16|\n",
            "|              Canned|         Low Fat|       High|      3.93|\n",
            "|              Canned|         Low Fat|     Medium|      3.94|\n",
            "|              Canned|         Low Fat|      Small|      4.05|\n",
            "|              Canned|         Regular|     Medium|      4.06|\n",
            "|              Canned|         Regular|      Small|      3.93|\n",
            "|              Canned|         Regular|       High|       4.0|\n",
            "|               Dairy|         Low Fat|      Small|      3.95|\n",
            "|               Dairy|         Low Fat|     Medium|      3.99|\n",
            "|               Dairy|         Low Fat|       High|      3.96|\n",
            "|               Dairy|         Regular|     Medium|      4.01|\n",
            "|               Dairy|         Regular|      Small|      3.94|\n",
            "|               Dairy|         Regular|       High|      3.91|\n",
            "|        Frozen Foods|         Low Fat|       High|      4.07|\n",
            "|        Frozen Foods|         Low Fat|      Small|      3.97|\n",
            "|        Frozen Foods|         Low Fat|     Medium|       4.0|\n",
            "|        Frozen Foods|         Regular|      Small|      3.93|\n",
            "|        Frozen Foods|         Regular|       High|      3.97|\n",
            "|        Frozen Foods|         Regular|     Medium|      3.93|\n",
            "|Fruits and Vegeta...|         Low Fat|       High|      3.87|\n",
            "|Fruits and Vegeta...|         Low Fat|      Small|      3.92|\n",
            "|Fruits and Vegeta...|         Low Fat|     Medium|      3.97|\n",
            "|Fruits and Vegeta...|         Regular|      Small|      3.96|\n",
            "|Fruits and Vegeta...|         Regular|       High|      3.92|\n",
            "|Fruits and Vegeta...|         Regular|     Medium|      4.01|\n",
            "|         Hard Drinks|         Low Fat|      Small|      3.91|\n",
            "|         Hard Drinks|         Low Fat|       High|      3.94|\n",
            "|         Hard Drinks|         Low Fat|     Medium|       3.9|\n",
            "|  Health and Hygiene|         Low Fat|       High|      3.95|\n",
            "|  Health and Hygiene|         Low Fat|     Medium|      3.93|\n",
            "|  Health and Hygiene|         Low Fat|      Small|      4.05|\n",
            "|           Household|         Low Fat|       High|      3.96|\n",
            "|           Household|         Low Fat|      Small|      4.03|\n",
            "|           Household|         Low Fat|     Medium|      3.98|\n",
            "|                Meat|         Low Fat|       High|      4.13|\n",
            "|                Meat|         Low Fat|      Small|      4.07|\n",
            "|                Meat|         Low Fat|     Medium|      4.01|\n",
            "|                Meat|         Regular|     Medium|      4.07|\n",
            "|                Meat|         Regular|      Small|      3.95|\n",
            "|                Meat|         Regular|       High|      3.93|\n",
            "|              Others|         Low Fat|       High|      3.89|\n",
            "|              Others|         Low Fat|     Medium|       4.0|\n",
            "|              Others|         Low Fat|      Small|      3.95|\n",
            "|             Seafood|         Low Fat|      Small|      3.97|\n",
            "|             Seafood|         Low Fat|     Medium|      4.05|\n",
            "|             Seafood|         Low Fat|       High|       4.0|\n",
            "|             Seafood|         Regular|       High|      3.33|\n",
            "|             Seafood|         Regular|      Small|      4.27|\n",
            "|             Seafood|         Regular|     Medium|      3.95|\n",
            "|         Snack Foods|         Low Fat|     Medium|      3.94|\n",
            "|         Snack Foods|         Low Fat|      Small|      3.94|\n",
            "|         Snack Foods|         Low Fat|       High|      3.92|\n",
            "|         Snack Foods|         Regular|     Medium|      3.93|\n",
            "|         Snack Foods|         Regular|      Small|      4.05|\n",
            "|         Snack Foods|         Regular|       High|      3.94|\n",
            "|         Soft Drinks|         Low Fat|      Small|      3.89|\n",
            "|         Soft Drinks|         Low Fat|       High|      3.88|\n",
            "|         Soft Drinks|         Low Fat|     Medium|       4.0|\n",
            "|         Soft Drinks|         Regular|      Small|      3.66|\n",
            "|         Soft Drinks|         Regular|     Medium|      3.98|\n",
            "|         Soft Drinks|         Regular|       High|      4.11|\n",
            "|       Starchy Foods|         Low Fat|       High|      3.95|\n",
            "|       Starchy Foods|         Low Fat|      Small|      3.71|\n",
            "|       Starchy Foods|         Low Fat|     Medium|      3.69|\n",
            "|       Starchy Foods|         Regular|      Small|      4.13|\n",
            "|       Starchy Foods|         Regular|       High|      4.01|\n",
            "|       Starchy Foods|         Regular|     Medium|       4.1|\n",
            "+--------------------+----------------+-----------+----------+\n",
            "\n"
          ]
        }
      ]
    },
    {
      "cell_type": "code",
      "source": [
        "item_type_wgt = df.groupby('Item Type','Outlet Type').agg(round(sum('Item Weight'),2).alias('Wgt Sum'))\n",
        "item_type_wgt.show(item_type_wgt.count(),truncate=False)"
      ],
      "metadata": {
        "colab": {
          "base_uri": "https://localhost:8080/"
        },
        "id": "1c18wwY7Wp_H",
        "outputId": "7c15351a-339f-4e6e-dc27-de408b8b8200"
      },
      "execution_count": null,
      "outputs": [
        {
          "output_type": "stream",
          "name": "stdout",
          "text": [
            "+---------------------+-----------------+--------+\n",
            "|Item Type            |Outlet Type      |Wgt Sum |\n",
            "+---------------------+-----------------+--------+\n",
            "|Breakfast            |Grocery Store    |123.17  |\n",
            "|Others               |Supermarket Type1|1480.97 |\n",
            "|Frozen Foods         |Supermarket Type3|NULL    |\n",
            "|Baking Goods         |Supermarket Type1|5235.91 |\n",
            "|Starchy Foods        |Grocery Store    |113.2   |\n",
            "|Baking Goods         |Supermarket Type2|815.18  |\n",
            "|Baking Goods         |Supermarket Type3|NULL    |\n",
            "|Household            |Grocery Store    |838.98  |\n",
            "|Household            |Supermarket Type2|1325.59 |\n",
            "|Seafood              |Grocery Store    |31.15   |\n",
            "|Breakfast            |Supermarket Type3|NULL    |\n",
            "|Seafood              |Supermarket Type2|96.46   |\n",
            "|Soft Drinks          |Grocery Store    |337.99  |\n",
            "|Others               |Grocery Store    |155.7   |\n",
            "|Hard Drinks          |Supermarket Type2|230.15  |\n",
            "|Starchy Foods        |Supermarket Type3|NULL    |\n",
            "|Health and Hygiene   |Grocery Store    |466.56  |\n",
            "|Canned               |Grocery Store    |429.31  |\n",
            "|Frozen Foods         |Supermarket Type1|7358.19 |\n",
            "|Soft Drinks          |Supermarket Type2|528.77  |\n",
            "|Health and Hygiene   |Supermarket Type1|4418.67 |\n",
            "|Seafood              |Supermarket Type3|NULL    |\n",
            "|Starchy Foods        |Supermarket Type2|247.98  |\n",
            "|Meat                 |Supermarket Type3|NULL    |\n",
            "|Seafood              |Supermarket Type1|512.59  |\n",
            "|Snack Foods          |Supermarket Type1|10197.71|\n",
            "|Frozen Foods         |Grocery Store    |705.92  |\n",
            "|Household            |Supermarket Type3|NULL    |\n",
            "|Dairy                |Grocery Store    |598.15  |\n",
            "|Canned               |Supermarket Type3|NULL    |\n",
            "|Dairy                |Supermarket Type3|NULL    |\n",
            "|Canned               |Supermarket Type1|5251.17 |\n",
            "|Baking Goods         |Grocery Store    |529.45  |\n",
            "|Dairy                |Supermarket Type2|1004.55 |\n",
            "|Breads               |Supermarket Type1|1776.64 |\n",
            "|Hard Drinks          |Grocery Store    |173.42  |\n",
            "|Meat                 |Grocery Store    |427.22  |\n",
            "|Hard Drinks          |Supermarket Type3|NULL    |\n",
            "|Meat                 |Supermarket Type1|3305.82 |\n",
            "|Fruits and Vegetables|Supermarket Type2|1795.19 |\n",
            "|Fruits and Vegetables|Supermarket Type3|NULL    |\n",
            "|Fruits and Vegetables|Grocery Store    |1092.84 |\n",
            "|Fruits and Vegetables|Supermarket Type1|10588.01|\n",
            "|Soft Drinks          |Supermarket Type1|3564.2  |\n",
            "|Snack Foods          |Supermarket Type3|NULL    |\n",
            "|Others               |Supermarket Type2|261.24  |\n",
            "|Breakfast            |Supermarket Type1|879.61  |\n",
            "|Frozen Foods         |Supermarket Type2|1174.44 |\n",
            "|Others               |Supermarket Type3|NULL    |\n",
            "|Starchy Foods        |Supermarket Type1|1418.62 |\n",
            "|Breads               |Grocery Store    |215.83  |\n",
            "|Breads               |Supermarket Type3|NULL    |\n",
            "|Dairy                |Supermarket Type1|5996.46 |\n",
            "|Snack Foods          |Grocery Store    |927.92  |\n",
            "|Household            |Supermarket Type1|7994.45 |\n",
            "|Breads               |Supermarket Type2|322.3   |\n",
            "|Hard Drinks          |Supermarket Type1|1682.69 |\n",
            "|Breakfast            |Supermarket Type2|133.59  |\n",
            "|Canned               |Supermarket Type2|952.3   |\n",
            "|Meat                 |Supermarket Type2|586.41  |\n",
            "|Health and Hygiene   |Supermarket Type3|NULL    |\n",
            "|Snack Foods          |Supermarket Type2|1706.39 |\n",
            "|Soft Drinks          |Supermarket Type3|NULL    |\n",
            "|Health and Hygiene   |Supermarket Type2|765.96  |\n",
            "+---------------------+-----------------+--------+\n",
            "\n"
          ]
        }
      ]
    },
    {
      "cell_type": "code",
      "source": [
        "Item_Type_year = df.groupby('Item Type','Outlet Establishment Year').agg(sum('Sales').alias('YEAR Sales'))\n",
        "Item_Type_year.show()"
      ],
      "metadata": {
        "colab": {
          "base_uri": "https://localhost:8080/"
        },
        "id": "9Cd3VAGnYCSd",
        "outputId": "68b4bd6e-4da2-4e5c-84b3-3770339adb9b"
      },
      "execution_count": null,
      "outputs": [
        {
          "output_type": "stream",
          "name": "stdout",
          "text": [
            "+--------------------+-------------------------+------------------+\n",
            "|           Item Type|Outlet Establishment Year|        YEAR Sales|\n",
            "+--------------------+-------------------------+------------------+\n",
            "|             Seafood|                     2015|         1212.3534|\n",
            "|                Meat|                     2018|12289.962799999998|\n",
            "|         Hard Drinks|                     2016|         2751.2696|\n",
            "|       Starchy Foods|                     2011|          1249.046|\n",
            "|           Household|                     2012|        13937.5676|\n",
            "|        Baking Goods|                     2012| 8132.210199999998|\n",
            "|Fruits and Vegeta...|                     2011|10789.683399999998|\n",
            "|              Breads|                     2016|3948.9965999999995|\n",
            "|              Others|                     2014|2121.2257999999997|\n",
            "|         Hard Drinks|                     2011|         2041.7454|\n",
            "|               Dairy|                     2017|10799.257800000005|\n",
            "|       Starchy Foods|                     2012|         2540.6612|\n",
            "|  Health and Hygiene|                     2012| 6868.248199999998|\n",
            "|             Seafood|                     2018|         1680.3056|\n",
            "|         Soft Drinks|                     2022|         6289.6338|\n",
            "|              Others|                     2011|         1241.6564|\n",
            "|  Health and Hygiene|                     2022| 7339.923799999999|\n",
            "|              Breads|                     2014|          3343.974|\n",
            "|              Breads|                     2012|         3636.0996|\n",
            "|  Health and Hygiene|                     2018|11642.036799999994|\n",
            "+--------------------+-------------------------+------------------+\n",
            "only showing top 20 rows\n",
            "\n"
          ]
        }
      ]
    },
    {
      "cell_type": "code",
      "source": [
        "Item_Type_year = df.groupby('Item Type','Outlet Establishment Year').agg(round(sum('Sales')).alias('YEAR Sales'))\n",
        "Item_Type_year.show(Item_Type_year.count())"
      ],
      "metadata": {
        "colab": {
          "base_uri": "https://localhost:8080/"
        },
        "id": "GGec6Wo6Yed9",
        "outputId": "77edc77b-2e4d-4b67-8278-14378817f109"
      },
      "execution_count": null,
      "outputs": [
        {
          "output_type": "stream",
          "name": "stdout",
          "text": [
            "+--------------------+-------------------------+----------+\n",
            "|           Item Type|Outlet Establishment Year|YEAR Sales|\n",
            "+--------------------+-------------------------+----------+\n",
            "|             Seafood|                     2015|    1212.0|\n",
            "|                Meat|                     2018|   12290.0|\n",
            "|         Hard Drinks|                     2016|    2751.0|\n",
            "|       Starchy Foods|                     2011|    1249.0|\n",
            "|           Household|                     2012|   13938.0|\n",
            "|        Baking Goods|                     2012|    8132.0|\n",
            "|Fruits and Vegeta...|                     2011|   10790.0|\n",
            "|              Breads|                     2016|    3949.0|\n",
            "|              Others|                     2014|    2121.0|\n",
            "|         Hard Drinks|                     2011|    2042.0|\n",
            "|               Dairy|                     2017|   10799.0|\n",
            "|       Starchy Foods|                     2012|    2541.0|\n",
            "|  Health and Hygiene|                     2012|    6868.0|\n",
            "|             Seafood|                     2018|    1680.0|\n",
            "|         Soft Drinks|                     2022|    6290.0|\n",
            "|              Others|                     2011|    1242.0|\n",
            "|  Health and Hygiene|                     2022|    7340.0|\n",
            "|              Breads|                     2014|    3344.0|\n",
            "|              Breads|                     2012|    3636.0|\n",
            "|  Health and Hygiene|                     2018|   11642.0|\n",
            "|         Snack Foods|                     2020|   18103.0|\n",
            "|         Soft Drinks|                     2012|    5734.0|\n",
            "|             Seafood|                     2017|    1019.0|\n",
            "|         Soft Drinks|                     2015|    6462.0|\n",
            "|             Seafood|                     2011|     626.0|\n",
            "|  Health and Hygiene|                     2020|    7989.0|\n",
            "|         Hard Drinks|                     2020|    3172.0|\n",
            "|         Snack Foods|                     2016|   17243.0|\n",
            "|               Dairy|                     2022|   10639.0|\n",
            "|           Household|                     2016|   15436.0|\n",
            "|              Others|                     2020|    2320.0|\n",
            "|        Frozen Foods|                     2015|   11538.0|\n",
            "|              Canned|                     2015|   10958.0|\n",
            "|        Baking Goods|                     2016|    9461.0|\n",
            "|                Meat|                     2016|    6436.0|\n",
            "|         Hard Drinks|                     2012|    3801.0|\n",
            "|                Meat|                     2015|    5610.0|\n",
            "|               Dairy|                     2015|   10081.0|\n",
            "|  Health and Hygiene|                     2015|    6993.0|\n",
            "|         Snack Foods|                     2012|   20892.0|\n",
            "|       Starchy Foods|                     2015|    2190.0|\n",
            "|Fruits and Vegeta...|                     2020|   18457.0|\n",
            "|              Others|                     2017|    2236.0|\n",
            "|              Canned|                     2014|    8804.0|\n",
            "|        Frozen Foods|                     2012|   13053.0|\n",
            "|               Dairy|                     2011|    6708.0|\n",
            "|           Breakfast|                     2014|    1917.0|\n",
            "|         Hard Drinks|                     2014|    3264.0|\n",
            "|               Dairy|                     2014|   12281.0|\n",
            "|               Dairy|                     2016|   11266.0|\n",
            "|         Snack Foods|                     2011|   10650.0|\n",
            "|         Snack Foods|                     2018|   30485.0|\n",
            "|           Breakfast|                     2012|    1673.0|\n",
            "|         Soft Drinks|                     2011|    4003.0|\n",
            "|              Breads|                     2018|    6716.0|\n",
            "|Fruits and Vegeta...|                     2012|   19779.0|\n",
            "|Fruits and Vegeta...|                     2017|   18299.0|\n",
            "|       Starchy Foods|                     2020|    2602.0|\n",
            "|        Baking Goods|                     2014|    9432.0|\n",
            "|           Breakfast|                     2020|    1840.0|\n",
            "|              Canned|                     2018|   15654.0|\n",
            "|        Baking Goods|                     2017|    8535.0|\n",
            "|        Frozen Foods|                     2011|    7360.0|\n",
            "|              Canned|                     2020|    9527.0|\n",
            "|        Frozen Foods|                     2014|   12588.0|\n",
            "|           Household|                     2017|   15873.0|\n",
            "|           Household|                     2020|   14096.0|\n",
            "|         Hard Drinks|                     2017|    2966.0|\n",
            "|                Meat|                     2014|    5627.0|\n",
            "|         Soft Drinks|                     2020|    7280.0|\n",
            "|       Starchy Foods|                     2017|    2832.0|\n",
            "|        Baking Goods|                     2015|    9257.0|\n",
            "|              Breads|                     2022|    3539.0|\n",
            "|  Health and Hygiene|                     2011|    4993.0|\n",
            "|           Breakfast|                     2016|    1195.0|\n",
            "|           Breakfast|                     2022|    1553.0|\n",
            "|           Breakfast|                     2018|    2901.0|\n",
            "|         Hard Drinks|                     2015|    3656.0|\n",
            "|              Canned|                     2011|    4551.0|\n",
            "|Fruits and Vegeta...|                     2015|   20512.0|\n",
            "|         Soft Drinks|                     2017|    6853.0|\n",
            "|       Starchy Foods|                     2014|    3005.0|\n",
            "|              Others|                     2016|    3122.0|\n",
            "|        Baking Goods|                     2011|    5328.0|\n",
            "|              Others|                     2018|    3827.0|\n",
            "|             Seafood|                     2020|     721.0|\n",
            "|              Others|                     2022|    2556.0|\n",
            "|                Meat|                     2011|    4624.0|\n",
            "|                Meat|                     2020|    5924.0|\n",
            "|              Canned|                     2016|   10025.0|\n",
            "|           Breakfast|                     2011|    1511.0|\n",
            "|Fruits and Vegeta...|                     2018|   30935.0|\n",
            "|         Snack Foods|                     2014|   18231.0|\n",
            "|        Baking Goods|                     2018|   14307.0|\n",
            "|              Canned|                     2022|   10852.0|\n",
            "|           Household|                     2011|    9822.0|\n",
            "|              Others|                     2012|    2490.0|\n",
            "|             Seafood|                     2016|    1055.0|\n",
            "|         Snack Foods|                     2017|   20437.0|\n",
            "|         Hard Drinks|                     2022|    3609.0|\n",
            "|              Breads|                     2011|    2633.0|\n",
            "|       Starchy Foods|                     2016|    2202.0|\n",
            "|              Canned|                     2012|    8996.0|\n",
            "|             Seafood|                     2014|     674.0|\n",
            "|         Hard Drinks|                     2018|    4073.0|\n",
            "|             Seafood|                     2012|    1000.0|\n",
            "|        Frozen Foods|                     2016|   14683.0|\n",
            "|                Meat|                     2012|    6127.0|\n",
            "|         Snack Foods|                     2015|   19391.0|\n",
            "|         Soft Drinks|                     2014|    6456.0|\n",
            "|           Household|                     2015|   14650.0|\n",
            "|           Household|                     2014|   15151.0|\n",
            "|           Household|                     2018|   22766.0|\n",
            "|              Canned|                     2017|   11340.0|\n",
            "|                Meat|                     2022|    6366.0|\n",
            "|       Starchy Foods|                     2018|    2680.0|\n",
            "|        Baking Goods|                     2022|    8594.0|\n",
            "|        Frozen Foods|                     2018|   18597.0|\n",
            "|              Breads|                     2017|    4183.0|\n",
            "|  Health and Hygiene|                     2017|    6598.0|\n",
            "|         Soft Drinks|                     2016|    6216.0|\n",
            "|               Dairy|                     2012|   11818.0|\n",
            "|Fruits and Vegeta...|                     2016|   19714.0|\n",
            "|              Breads|                     2020|    3051.0|\n",
            "|Fruits and Vegeta...|                     2014|   20671.0|\n",
            "|           Breakfast|                     2015|    1568.0|\n",
            "|           Household|                     2022|   14245.0|\n",
            "|             Seafood|                     2022|    1090.0|\n",
            "|         Snack Foods|                     2022|   20003.0|\n",
            "|           Breakfast|                     2017|    1439.0|\n",
            "|Fruits and Vegeta...|                     2022|   18967.0|\n",
            "|  Health and Hygiene|                     2014|    8242.0|\n",
            "|                Meat|                     2017|    6445.0|\n",
            "|        Frozen Foods|                     2017|   13248.0|\n",
            "|              Others|                     2015|    2537.0|\n",
            "|        Frozen Foods|                     2022|   13254.0|\n",
            "|               Dairy|                     2018|   16750.0|\n",
            "|       Starchy Foods|                     2022|    2580.0|\n",
            "|        Baking Goods|                     2020|    8848.0|\n",
            "|         Soft Drinks|                     2018|    9219.0|\n",
            "|               Dairy|                     2020|   10935.0|\n",
            "|              Breads|                     2015|    4327.0|\n",
            "|        Frozen Foods|                     2020|   14238.0|\n",
            "|  Health and Hygiene|                     2016|    7360.0|\n",
            "+--------------------+-------------------------+----------+\n",
            "\n"
          ]
        }
      ]
    },
    {
      "cell_type": "code",
      "source": [
        "Item_Type_Size = df.groupby('Item Type','Outlet Size').agg(round(sum('Sales')).alias('YEAR Sales'))\n",
        "Item_Type_Size.show(Item_Type_Size.count())"
      ],
      "metadata": {
        "colab": {
          "base_uri": "https://localhost:8080/"
        },
        "id": "e2y9OJEWaanp",
        "outputId": "826249d5-6b39-4af6-8db4-abdbac6bf6fd"
      },
      "execution_count": null,
      "outputs": [
        {
          "output_type": "stream",
          "name": "stdout",
          "text": [
            "+--------------------+-----------+----------+\n",
            "|           Item Type|Outlet Size|YEAR Sales|\n",
            "+--------------------+-----------+----------+\n",
            "|       Starchy Foods|     Medium|    8745.0|\n",
            "|Fruits and Vegeta...|     Medium|   83570.0|\n",
            "|        Frozen Foods|       High|   24986.0|\n",
            "|         Soft Drinks|       High|   14216.0|\n",
            "|           Breakfast|      Small|    4789.0|\n",
            "|                Meat|     Medium|   24868.0|\n",
            "|Fruits and Vegeta...|       High|   34833.0|\n",
            "|                Meat|       High|   15190.0|\n",
            "|        Baking Goods|       High|   20278.0|\n",
            "|           Household|     Medium|   55439.0|\n",
            "|         Hard Drinks|      Small|   10696.0|\n",
            "|               Dairy|       High|   21093.0|\n",
            "|         Snack Foods|      Small|   60904.0|\n",
            "|              Others|     Medium|    7668.0|\n",
            "|              Others|      Small|   10325.0|\n",
            "|         Snack Foods|     Medium|   72194.0|\n",
            "|           Household|      Small|   59353.0|\n",
            "|              Canned|     Medium|   38409.0|\n",
            "|              Breads|       High|    7357.0|\n",
            "|           Household|       High|   21185.0|\n",
            "|              Canned|       High|   19360.0|\n",
            "|              Breads|      Small|   12759.0|\n",
            "|        Baking Goods|     Medium|   32977.0|\n",
            "|         Hard Drinks|       High|    3264.0|\n",
            "|  Health and Hygiene|     Medium|   28266.0|\n",
            "|  Health and Hygiene|       High|    8242.0|\n",
            "|         Soft Drinks|     Medium|   20350.0|\n",
            "|         Snack Foods|       High|   42335.0|\n",
            "|               Dairy|     Medium|   44508.0|\n",
            "|           Breakfast|     Medium|    6735.0|\n",
            "|         Hard Drinks|     Medium|   15374.0|\n",
            "|       Starchy Foods|      Small|    7269.0|\n",
            "|        Baking Goods|      Small|   28640.0|\n",
            "|Fruits and Vegeta...|      Small|   59721.0|\n",
            "|              Canned|      Small|   32938.0|\n",
            "|              Breads|     Medium|   15263.0|\n",
            "|             Seafood|       High|    2252.0|\n",
            "|       Starchy Foods|       High|    5866.0|\n",
            "|             Seafood|      Small|    3316.0|\n",
            "|             Seafood|     Medium|    3509.0|\n",
            "|         Soft Drinks|      Small|   23948.0|\n",
            "|        Frozen Foods|     Medium|   50020.0|\n",
            "|           Breakfast|       High|    4073.0|\n",
            "|                Meat|      Small|   19392.0|\n",
            "|               Dairy|      Small|   35676.0|\n",
            "|  Health and Hygiene|      Small|   31518.0|\n",
            "|              Others|       High|    4459.0|\n",
            "|        Frozen Foods|      Small|   43553.0|\n",
            "+--------------------+-----------+----------+\n",
            "\n"
          ]
        }
      ]
    },
    {
      "cell_type": "code",
      "source": [
        "Item_Type_Size = df.groupby('Item Type','Outlet Size').agg(round(sum('Sales')).alias('YEAR Sales'))\n",
        "Item_Type_Size.show(Item_Type_Size.count())"
      ],
      "metadata": {
        "colab": {
          "base_uri": "https://localhost:8080/"
        },
        "id": "ZiAiFfPxatGO",
        "outputId": "e5bf9fd0-4930-47fd-97af-15ab4431cc53"
      },
      "execution_count": null,
      "outputs": [
        {
          "output_type": "stream",
          "name": "stdout",
          "text": [
            "+--------------------+-----------+----------+\n",
            "|           Item Type|Outlet Size|YEAR Sales|\n",
            "+--------------------+-----------+----------+\n",
            "|       Starchy Foods|     Medium|    8745.0|\n",
            "|Fruits and Vegeta...|     Medium|   83570.0|\n",
            "|        Frozen Foods|       High|   24986.0|\n",
            "|         Soft Drinks|       High|   14216.0|\n",
            "|           Breakfast|      Small|    4789.0|\n",
            "|                Meat|     Medium|   24868.0|\n",
            "|Fruits and Vegeta...|       High|   34833.0|\n",
            "|                Meat|       High|   15190.0|\n",
            "|        Baking Goods|       High|   20278.0|\n",
            "|           Household|     Medium|   55439.0|\n",
            "|         Hard Drinks|      Small|   10696.0|\n",
            "|               Dairy|       High|   21093.0|\n",
            "|         Snack Foods|      Small|   60904.0|\n",
            "|              Others|     Medium|    7668.0|\n",
            "|              Others|      Small|   10325.0|\n",
            "|         Snack Foods|     Medium|   72194.0|\n",
            "|           Household|      Small|   59353.0|\n",
            "|              Canned|     Medium|   38409.0|\n",
            "|              Breads|       High|    7357.0|\n",
            "|           Household|       High|   21185.0|\n",
            "|              Canned|       High|   19360.0|\n",
            "|              Breads|      Small|   12759.0|\n",
            "|        Baking Goods|     Medium|   32977.0|\n",
            "|         Hard Drinks|       High|    3264.0|\n",
            "|  Health and Hygiene|     Medium|   28266.0|\n",
            "|  Health and Hygiene|       High|    8242.0|\n",
            "|         Soft Drinks|     Medium|   20350.0|\n",
            "|         Snack Foods|       High|   42335.0|\n",
            "|               Dairy|     Medium|   44508.0|\n",
            "|           Breakfast|     Medium|    6735.0|\n",
            "|         Hard Drinks|     Medium|   15374.0|\n",
            "|       Starchy Foods|      Small|    7269.0|\n",
            "|        Baking Goods|      Small|   28640.0|\n",
            "|Fruits and Vegeta...|      Small|   59721.0|\n",
            "|              Canned|      Small|   32938.0|\n",
            "|              Breads|     Medium|   15263.0|\n",
            "|             Seafood|       High|    2252.0|\n",
            "|       Starchy Foods|       High|    5866.0|\n",
            "|             Seafood|      Small|    3316.0|\n",
            "|             Seafood|     Medium|    3509.0|\n",
            "|         Soft Drinks|      Small|   23948.0|\n",
            "|        Frozen Foods|     Medium|   50020.0|\n",
            "|           Breakfast|       High|    4073.0|\n",
            "|                Meat|      Small|   19392.0|\n",
            "|               Dairy|      Small|   35676.0|\n",
            "|  Health and Hygiene|      Small|   31518.0|\n",
            "|              Others|       High|    4459.0|\n",
            "|        Frozen Foods|      Small|   43553.0|\n",
            "+--------------------+-----------+----------+\n",
            "\n"
          ]
        }
      ]
    },
    {
      "cell_type": "markdown",
      "source": [
        "Thank you"
      ],
      "metadata": {
        "id": "yFpSNkq9edbd"
      }
    }
  ]
}